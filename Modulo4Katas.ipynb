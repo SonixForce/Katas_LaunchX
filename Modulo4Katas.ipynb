{
 "cells": [
  {
   "cell_type": "markdown",
   "metadata": {},
   "source": [
    "# Ejercicio 1: Transformar cadenas"
   ]
  },
  {
   "cell_type": "code",
   "execution_count": 11,
   "metadata": {},
   "outputs": [
    {
     "name": "stdout",
     "output_type": "stream",
     "text": [
      "\n",
      "On average, the Moon moves 4cm away from the Earth every year\n",
      "The highest daylight temperature of the Moon is 127 Celcius.\n"
     ]
    }
   ],
   "source": [
    "text = \"\"\"Interesting facts about the Moon. The Moon is Earth's only satellite. There are several interesting facts about the Moon and how it affects life here on Earth. \n",
    "On average, the Moon moves 4cm away from the Earth every year. This yearly drift is not significant enough to cause immediate effects on Earth. The highest daylight temperature of the Moon is 127 C.\"\"\"\n",
    "\n",
    "textParts = text.split(\". \")\n",
    "\n",
    "#print(textParts)\n",
    "\n",
    "textKey = [\"average\", \"temperature\", \"distance\"]\n",
    "\n",
    "for textShow in textParts:\n",
    "    for textWord in textKey:\n",
    "        if textWord in textShow:\n",
    "            print(textShow.replace(\"C\", \"Celcius\"))\n",
    "            break\n",
    "        \n",
    "#print(text)"
   ]
  },
  {
   "cell_type": "markdown",
   "metadata": {},
   "source": [
    "# Ejercicio 2: Formateando cadenas"
   ]
  },
  {
   "cell_type": "code",
   "execution_count": 23,
   "metadata": {},
   "outputs": [
    {
     "name": "stdout",
     "output_type": "stream",
     "text": [
      "\n",
      "Gravity facts about Ganymedes and it's planet!\n",
      "----------------------------------------------------------------\n",
      "Planet name: Mars\n",
      "Gravity on : 1.4300000000000002 m/s\n",
      "\n"
     ]
    }
   ],
   "source": [
    "name = \"Ganymedes\"\n",
    "gravity = 0.00143 # in kms\n",
    "planet = \"Mars\"\n",
    "\n",
    "print(f\"\"\"\n",
    "Gravity facts about {name} and it's planet!\n",
    "----------------------------------------------------------------\n",
    "Planet name: {planet}\n",
    "Gravity on : {gravity*1000} m/s\n",
    "\"\"\")"
   ]
  }
 ],
 "metadata": {
  "interpreter": {
   "hash": "e7c90a389c1e5a0d9b0c87422b54ed64ab20e180309e787b0a395e200f6caaa8"
  },
  "kernelspec": {
   "display_name": "Python 3.10.2 64-bit (windows store)",
   "language": "python",
   "name": "python3"
  },
  "language_info": {
   "codemirror_mode": {
    "name": "ipython",
    "version": 3
   },
   "file_extension": ".py",
   "mimetype": "text/x-python",
   "name": "python",
   "nbconvert_exporter": "python",
   "pygments_lexer": "ipython3",
   "version": "3.10.2"
  },
  "orig_nbformat": 4
 },
 "nbformat": 4,
 "nbformat_minor": 2
}
