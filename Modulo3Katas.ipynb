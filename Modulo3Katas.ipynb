{
 "cells": [
  {
   "cell_type": "markdown",
   "metadata": {},
   "source": [
    "# Ejercicio 1 - Escribir declaraciones if, else y elif"
   ]
  },
  {
   "cell_type": "code",
   "execution_count": 1,
   "metadata": {},
   "outputs": [
    {
     "name": "stdout",
     "output_type": "stream",
     "text": [
      "Un asteroide se acerca a la tierra!\n"
     ]
    }
   ],
   "source": [
    "astVelocity = 49\n",
    "\n",
    "if astVelocity > 25:\n",
    "    print(\"Un asteroide se acerca a la tierra!\")\n",
    "else:\n",
    "    print(\"No hay nada que temer, no se acerca ningun asteroide.\")"
   ]
  },
  {
   "cell_type": "markdown",
   "metadata": {},
   "source": [
    "# Ejercicio 2"
   ]
  },
  {
   "cell_type": "code",
   "execution_count": 1,
   "metadata": {},
   "outputs": [
    {
     "name": "stdout",
     "output_type": "stream",
     "text": [
      "Nada nuevo el día de hoy.\n"
     ]
    }
   ],
   "source": [
    "astVelocity = 19\n",
    "\n",
    "if astVelocity >= 20:\n",
    "    print(\"Mira al cielo! Si puedes ver una luz en el cielo significa que es un asteroide.\")\n",
    "else:\n",
    "    print(\"Nada nuevo el día de hoy.\")"
   ]
  },
  {
   "cell_type": "markdown",
   "metadata": {},
   "source": [
    "# Ejercicio 3 - Uso de operadores and y or"
   ]
  },
  {
   "cell_type": "code",
   "execution_count": 10,
   "metadata": {},
   "outputs": [
    {
     "name": "stdout",
     "output_type": "stream",
     "text": [
      "Nada nuevo que reportar\n"
     ]
    }
   ],
   "source": [
    "astVelocity = 2\n",
    "astSize = 10\n",
    "\n",
    "if astSize >= 25 and astSize < 1000:\n",
    "    if astVelocity >= 20:\n",
    "        print(\"Mira al cielo, esa luz es un meteorito que impactará con la tierra muy pronto!\")\n",
    "        if astVelocity > 25:\n",
    "            print(\"Cuidado! el asteroide tiene un diametro de \" + str(astSize) + \" metros e impactará con una velocidad de \" + str(astVelocity) + \" km/s y causará mucho daño!\")\n",
    "    else:\n",
    "        print(\"Nada nuevo que reportar\")\n",
    "elif astSize < 25:\n",
    "    if astVelocity >= 20:\n",
    "        print(\"Mira al cielo, esa luz es un meteorito que entró en la atmosfera de la tierra!\")\n",
    "        if astVelocity > 25:\n",
    "            print(\"El asteroide cuenta con un diametro de \" + str(astSize) + \" metros y una velocidad de \" + str(astVelocity) + \" km/s pero se evaporará antes de impactar, disfruta del espectáculo!\")\n",
    "    else:\n",
    "        print(\"Nada nuevo que reportar\")\n",
    "else:\n",
    "    if astVelocity > 25:\n",
    "        print(\"Hay un meteorito de enormes proporciones dirigiendose a la tierra, por desgracia no hay mucho más que podamos hacer :(\")\n",
    "    else:\n",
    "        print(\"Nada nuevo que reportar\")\n",
    "    "
   ]
  },
  {
   "cell_type": "code",
   "execution_count": null,
   "metadata": {},
   "outputs": [],
   "source": []
  }
 ],
 "metadata": {
  "interpreter": {
   "hash": "e7c90a389c1e5a0d9b0c87422b54ed64ab20e180309e787b0a395e200f6caaa8"
  },
  "kernelspec": {
   "display_name": "Python 3.10.2 64-bit (windows store)",
   "language": "python",
   "name": "python3"
  },
  "language_info": {
   "codemirror_mode": {
    "name": "ipython",
    "version": 3
   },
   "file_extension": ".py",
   "mimetype": "text/x-python",
   "name": "python",
   "nbconvert_exporter": "python",
   "pygments_lexer": "ipython3",
   "version": "3.10.2"
  },
  "orig_nbformat": 4
 },
 "nbformat": 4,
 "nbformat_minor": 2
}
