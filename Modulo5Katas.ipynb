{
 "cells": [
  {
   "cell_type": "markdown",
   "metadata": {},
   "source": [
    "# Ejercicio 1 - Utilizar operadores aritméticos"
   ]
  },
  {
   "cell_type": "code",
   "execution_count": 6,
   "metadata": {},
   "outputs": [
    {
     "name": "stdout",
     "output_type": "stream",
     "text": [
      "628949330\n",
      "390577534\n"
     ]
    }
   ],
   "source": [
    "earth = 149597870\n",
    "jupiter = 778547200\n",
    "\n",
    "distance = jupiter - earth\n",
    "\n",
    "distanceMiles = distance * 0.621\n",
    "\n",
    "print(distance)\n",
    "print(round(distanceMiles))"
   ]
  },
  {
   "cell_type": "markdown",
   "metadata": {},
   "source": [
    "# Ejercicio 2: convierte cadenas números y usa valores absolutos"
   ]
  },
  {
   "cell_type": "code",
   "execution_count": 9,
   "metadata": {},
   "outputs": [
    {
     "name": "stdout",
     "output_type": "stream",
     "text": [
      "La distancia en millas entre los planetas es: 48624300\n"
     ]
    }
   ],
   "source": [
    "firstPlanet = input(\"Introduce la distancia del primer planeta: \")\n",
    "secondPlanet = input(\"Introduce la distancia del segundo planeta: \")\n",
    "\n",
    "firstPlanet = int(firstPlanet)\n",
    "secondPlanet = int(secondPlanet)\n",
    "\n",
    "distance = (firstPlanet - secondPlanet) * 0.621\n",
    "\n",
    "print(f\"La distancia en millas entre los planetas es: {round(abs(distance))}\")"
   ]
  }
 ],
 "metadata": {
  "interpreter": {
   "hash": "af16959fb478f13dfc6be28b22d39ee47c088abb273dcf27cbc80310b8ce4f4b"
  },
  "kernelspec": {
   "display_name": "Python 3.10.2 ('env': venv)",
   "language": "python",
   "name": "python3"
  },
  "language_info": {
   "codemirror_mode": {
    "name": "ipython",
    "version": 3
   },
   "file_extension": ".py",
   "mimetype": "text/x-python",
   "name": "python",
   "nbconvert_exporter": "python",
   "pygments_lexer": "ipython3",
   "version": "3.10.2"
  },
  "orig_nbformat": 4
 },
 "nbformat": 4,
 "nbformat_minor": 2
}
