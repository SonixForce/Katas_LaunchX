{
 "cells": [
  {
   "cell_type": "markdown",
   "metadata": {},
   "source": [
    "# Ejercicio 1: Creación de un bucle \"while\""
   ]
  },
  {
   "cell_type": "code",
   "execution_count": 2,
   "metadata": {},
   "outputs": [
    {
     "name": "stdout",
     "output_type": "stream",
     "text": [
      "Your planets are: ['mars', 'pluto', 'earth', 'jupiter']\n"
     ]
    }
   ],
   "source": [
    "new_planet = ''\n",
    "\n",
    "planets = []\n",
    "\n",
    "while new_planet != 'done':\n",
    "    if new_planet:\n",
    "        planets.append(new_planet)\n",
    "        new_planet = ''\n",
    "    else:\n",
    "        new_planet = input(\"Please insert the name of a planet, if you're done, type 'done': \")\n",
    "\n",
    "print(\"Your planets are:\", planets)"
   ]
  },
  {
   "cell_type": "markdown",
   "metadata": {},
   "source": [
    "# Ejercicio 2: Creación de un ciclo \"for\""
   ]
  },
  {
   "cell_type": "code",
   "execution_count": 1,
   "metadata": {},
   "outputs": [
    {
     "name": "stdout",
     "output_type": "stream",
     "text": [
      "Your planets are: \n",
      "venus\n",
      "earth\n",
      "mercury\n",
      "xd\n"
     ]
    }
   ],
   "source": [
    "new_planet = ''\n",
    "\n",
    "planets = []\n",
    "\n",
    "while new_planet != 'done':\n",
    "    if new_planet:\n",
    "        planets.append(new_planet)\n",
    "        new_planet = ''\n",
    "    else:\n",
    "        new_planet = input(\"Please insert the name of a planet, if you're done, type 'done': \")\n",
    "\n",
    "print(\"Your planets are: \")\n",
    "\n",
    "for planet in planets:\n",
    "    print(planet)"
   ]
  }
 ],
 "metadata": {
  "interpreter": {
   "hash": "c4f99e23c0c32584d9168f46c7611613589b27f6331a44c74ad4c9698cf6b68e"
  },
  "kernelspec": {
   "display_name": "Python 3.9.7 ('env': venv)",
   "language": "python",
   "name": "python3"
  },
  "language_info": {
   "codemirror_mode": {
    "name": "ipython",
    "version": 3
   },
   "file_extension": ".py",
   "mimetype": "text/x-python",
   "name": "python",
   "nbconvert_exporter": "python",
   "pygments_lexer": "ipython3",
   "version": "3.9.7"
  },
  "orig_nbformat": 4
 },
 "nbformat": 4,
 "nbformat_minor": 2
}
