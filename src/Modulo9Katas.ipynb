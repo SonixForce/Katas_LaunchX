{
 "cells": [
  {
   "cell_type": "markdown",
   "metadata": {},
   "source": [
    "# Ejercicio: Uso de funciones en Python"
   ]
  },
  {
   "cell_type": "code",
   "execution_count": 13,
   "metadata": {},
   "outputs": [
    {
     "name": "stdout",
     "output_type": "stream",
     "text": [
      "37.333333333333336\n"
     ]
    }
   ],
   "source": [
    "def report(tank1, tank2, tank3):\n",
    "    avg = average([tank1, tank2, tank3])\n",
    "    return avg\n",
    "\n",
    "def average(values):\n",
    "    numValues = len(values)\n",
    "    sumValues = sum(values)\n",
    "    total = sumValues / numValues\n",
    "    return total\n",
    "\n",
    "\n",
    "print(report(55,45,12))"
   ]
  },
  {
   "cell_type": "markdown",
   "metadata": {},
   "source": [
    "# Ejercicio 2: Trabajo con argumentos de palabra clave"
   ]
  },
  {
   "cell_type": "code",
   "execution_count": 28,
   "metadata": {},
   "outputs": [
    {
     "name": "stdout",
     "output_type": "stream",
     "text": [
      "\n",
      "    The flight started at: 2022-02-17 17:24:20.716622\n",
      "    Destiny: Moon\n",
      "    The estimated time to reach destiny is: 216 hours\n",
      "    The status of the tanks are:\n",
      "    tank_1 has 23% of fuel in it\n",
      "tank_2 has 50% of fuel in it\n",
      "\n"
     ]
    }
   ],
   "source": [
    "from datetime import datetime\n",
    "\n",
    "def report(baseTime,destiny,*minutes,**tanks):\n",
    "    text = f\"\"\"\n",
    "    The flight started at: {baseTime}\n",
    "    Destiny: {destiny}\n",
    "    The estimated time to reach destiny is: {sum(minutes)} hours\n",
    "    The status of the tanks are:\n",
    "    \"\"\"\n",
    "    for tank_name, fuel in tanks.items():\n",
    "        text += f\"{tank_name} has {fuel}% of fuel in it\\n\"\n",
    "    return text\n",
    "\n",
    "\n",
    "print(report(datetime.now(),'Moon',80,84,20,32,tank_1=23,tank_2=50))"
   ]
  }
 ],
 "metadata": {
  "interpreter": {
   "hash": "c4f99e23c0c32584d9168f46c7611613589b27f6331a44c74ad4c9698cf6b68e"
  },
  "kernelspec": {
   "display_name": "Python 3.9.7 ('env': venv)",
   "language": "python",
   "name": "python3"
  },
  "language_info": {
   "codemirror_mode": {
    "name": "ipython",
    "version": 3
   },
   "file_extension": ".py",
   "mimetype": "text/x-python",
   "name": "python",
   "nbconvert_exporter": "python",
   "pygments_lexer": "ipython3",
   "version": "3.9.7"
  },
  "orig_nbformat": 4
 },
 "nbformat": 4,
 "nbformat_minor": 2
}
