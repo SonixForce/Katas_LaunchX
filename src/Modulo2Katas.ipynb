{
 "cells": [
  {
   "cell_type": "markdown",
   "metadata": {},
   "source": [
    "# Capturas de pantalla\n",
    "\n",
    "<img src='images/Kata2.png' width=\"904\" height=\"886\">\n",
    "<img src='images/Kata2-1.png' width=\"1114\" height=\"559\">"
   ]
  }
 ],
 "metadata": {
  "language_info": {
   "name": "python"
  },
  "orig_nbformat": 4
 },
 "nbformat": 4,
 "nbformat_minor": 2
}
