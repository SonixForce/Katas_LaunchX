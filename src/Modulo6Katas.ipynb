{
 "cells": [
  {
   "cell_type": "markdown",
   "metadata": {},
   "source": [
    "# Ejercicio 1: Crear y usar listas de Python"
   ]
  },
  {
   "cell_type": "code",
   "execution_count": 11,
   "metadata": {},
   "outputs": [
    {
     "name": "stdout",
     "output_type": "stream",
     "text": [
      "There are 7 planets\n",
      "The last planet added was: Pluto\n"
     ]
    }
   ],
   "source": [
    "planets = ['Mercury', 'Venus', 'Earth', 'Mars', 'Jupiter', 'Saturn', 'Neptune']\n",
    "\n",
    "print('There are',len(planets),'planets')\n",
    "\n",
    "planets.append('Pluto')\n",
    "\n",
    "print('The last planet added was:', planets[-1])"
   ]
  },
  {
   "cell_type": "markdown",
   "metadata": {},
   "source": [
    "# Ejercicio 2: Trabajando con datos de una lista"
   ]
  },
  {
   "cell_type": "code",
   "execution_count": 21,
   "metadata": {},
   "outputs": [
    {
     "name": "stdout",
     "output_type": "stream",
     "text": [
      "The planets closer to the sun than the one you typed are: ['Mercury', 'Venus', 'Earth', 'Mars', 'Jupiter', 'Saturn']\n",
      "And the planets farther from the sun than the one you typed are: []\n"
     ]
    }
   ],
   "source": [
    "planets = ['Mercury', 'Venus', 'Earth', 'Mars', 'Jupiter', 'Saturn', 'Neptune']\n",
    "\n",
    "userPlanet = input('Please type the name of the planet of your preference, with the first letter capitalized: ')\n",
    "\n",
    "planetIndex = planets.index(userPlanet)\n",
    "\n",
    "print('The planets closer to the sun than the one you typed are:', planets[0:planetIndex])\n",
    "\n",
    "print('And the planets farther from the sun than the one you typed are:', planets[planetIndex+1:7])"
   ]
  }
 ],
 "metadata": {
  "interpreter": {
   "hash": "c4f99e23c0c32584d9168f46c7611613589b27f6331a44c74ad4c9698cf6b68e"
  },
  "kernelspec": {
   "display_name": "Python 3.9.7 ('env': venv)",
   "language": "python",
   "name": "python3"
  },
  "language_info": {
   "codemirror_mode": {
    "name": "ipython",
    "version": 3
   },
   "file_extension": ".py",
   "mimetype": "text/x-python",
   "name": "python",
   "nbconvert_exporter": "python",
   "pygments_lexer": "ipython3",
   "version": "3.9.7"
  },
  "orig_nbformat": 4
 },
 "nbformat": 4,
 "nbformat_minor": 2
}
